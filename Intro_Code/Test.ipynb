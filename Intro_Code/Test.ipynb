{
 "cells": [
  {
   "cell_type": "code",
   "execution_count": 39,
   "id": "993daad7",
   "metadata": {},
   "outputs": [
    {
     "name": "stdout",
     "output_type": "stream",
     "text": [
      "Hello World!\n"
     ]
    }
   ],
   "source": [
    "#Printing the first code\n",
    "print(\"Hello World!\")"
   ]
  },
  {
   "cell_type": "code",
   "execution_count": 40,
   "id": "5ea9fe27",
   "metadata": {},
   "outputs": [
    {
     "name": "stdout",
     "output_type": "stream",
     "text": [
      "Hey Yasir!\n"
     ]
    }
   ],
   "source": [
    "#Printing the first code\n",
    "print(\"Hey Yasir!\")"
   ]
  },
  {
   "cell_type": "code",
   "execution_count": 28,
   "id": "468db42e",
   "metadata": {},
   "outputs": [
    {
     "name": "stdout",
     "output_type": "stream",
     "text": [
      "5\n"
     ]
    }
   ],
   "source": [
    "#Adding 3+2\n",
    "print(3 + 2)"
   ]
  },
  {
   "cell_type": "code",
   "execution_count": 29,
   "id": "b7292236",
   "metadata": {},
   "outputs": [
    {
     "name": "stdout",
     "output_type": "stream",
     "text": [
      "6\n"
     ]
    }
   ],
   "source": [
    "#Substracting 10-4\n",
    "print(10 - 4)"
   ]
  },
  {
   "cell_type": "code",
   "execution_count": 30,
   "id": "ff678f57",
   "metadata": {},
   "outputs": [
    {
     "name": "stdout",
     "output_type": "stream",
     "text": [
      "42\n"
     ]
    }
   ],
   "source": [
    "#Multiplying 6*7\n",
    "print(6 * 7)"
   ]
  },
  {
   "cell_type": "code",
   "execution_count": 32,
   "id": "fbe8c08c",
   "metadata": {},
   "outputs": [
    {
     "name": "stdout",
     "output_type": "stream",
     "text": [
      "8.0\n"
     ]
    }
   ],
   "source": [
    "#Dividing 56/7\n",
    "print(56 / 7)"
   ]
  },
  {
   "cell_type": "code",
   "execution_count": 33,
   "id": "8d808b74",
   "metadata": {},
   "outputs": [
    {
     "name": "stdout",
     "output_type": "stream",
     "text": [
      "16.0\n"
     ]
    }
   ],
   "source": [
    "#Dividing 80/5\n",
    "print(80 / 5)"
   ]
  },
  {
   "cell_type": "code",
   "execution_count": 34,
   "id": "0fd5d6c8",
   "metadata": {},
   "outputs": [
    {
     "name": "stdout",
     "output_type": "stream",
     "text": [
      "4\n"
     ]
    }
   ],
   "source": [
    "#Square of 2\n",
    "print(2 ** 2)"
   ]
  },
  {
   "cell_type": "code",
   "execution_count": 35,
   "id": "4549693c",
   "metadata": {},
   "outputs": [
    {
     "name": "stdout",
     "output_type": "stream",
     "text": [
      "8\n"
     ]
    }
   ],
   "source": [
    "#Qube of 2\n",
    "print(2 ** 3)"
   ]
  },
  {
   "cell_type": "code",
   "execution_count": 36,
   "id": "614c8edf",
   "metadata": {},
   "outputs": [
    {
     "name": "stdout",
     "output_type": "stream",
     "text": [
      "25\n"
     ]
    }
   ],
   "source": [
    "#Square of 5\n",
    "print(5 ** 2)"
   ]
  },
  {
   "cell_type": "code",
   "execution_count": 37,
   "id": "fc917c8c",
   "metadata": {},
   "outputs": [
    {
     "name": "stdout",
     "output_type": "stream",
     "text": [
      "125\n"
     ]
    }
   ],
   "source": [
    "#Qube of 2\n",
    "print(5 ** 3)"
   ]
  },
  {
   "cell_type": "code",
   "execution_count": 38,
   "id": "6eef9406",
   "metadata": {},
   "outputs": [
    {
     "name": "stdout",
     "output_type": "stream",
     "text": [
      "625\n"
     ]
    }
   ],
   "source": [
    "#5 raised to the 4th power\n",
    "print(5 ** 4)"
   ]
  },
  {
   "cell_type": "code",
   "execution_count": 13,
   "id": "647761ad",
   "metadata": {},
   "outputs": [],
   "source": [
    "#Variables"
   ]
  },
  {
   "cell_type": "code",
   "execution_count": 14,
   "id": "876deb85",
   "metadata": {},
   "outputs": [
    {
     "name": "stdout",
     "output_type": "stream",
     "text": [
      "4\n"
     ]
    }
   ],
   "source": [
    "first_variable = 4\n",
    "print(first_variable)"
   ]
  },
  {
   "cell_type": "code",
   "execution_count": 15,
   "id": "b509d78f",
   "metadata": {},
   "outputs": [
    {
     "name": "stdout",
     "output_type": "stream",
     "text": [
      "5\n"
     ]
    }
   ],
   "source": [
    "first_variable = 5\n",
    "print(first_variable)"
   ]
  },
  {
   "cell_type": "code",
   "execution_count": 16,
   "id": "9a8da29f",
   "metadata": {},
   "outputs": [
    {
     "name": "stdout",
     "output_type": "stream",
     "text": [
      "3\n"
     ]
    }
   ],
   "source": [
    "second_variable = 3\n",
    "print(second_variable)"
   ]
  },
  {
   "cell_type": "code",
   "execution_count": 17,
   "id": "40d230d1",
   "metadata": {},
   "outputs": [
    {
     "name": "stdout",
     "output_type": "stream",
     "text": [
      "7\n"
     ]
    }
   ],
   "source": [
    "second_variable = 7\n",
    "print(second_variable)"
   ]
  },
  {
   "cell_type": "code",
   "execution_count": 18,
   "id": "aff394bd",
   "metadata": {},
   "outputs": [
    {
     "name": "stdout",
     "output_type": "stream",
     "text": [
      "9\n"
     ]
    }
   ],
   "source": [
    "third_variable = 7+2\n",
    "print(third_variable)"
   ]
  },
  {
   "cell_type": "code",
   "execution_count": 19,
   "id": "d06bfd96",
   "metadata": {},
   "outputs": [
    {
     "name": "stdout",
     "output_type": "stream",
     "text": [
      "10\n"
     ]
    }
   ],
   "source": [
    "fourth_variable = 10\n",
    "print(fourth_variable)"
   ]
  },
  {
   "cell_type": "code",
   "execution_count": 20,
   "id": "4b589898",
   "metadata": {},
   "outputs": [
    {
     "name": "stdout",
     "output_type": "stream",
     "text": [
      "15\n"
     ]
    }
   ],
   "source": [
    "fourth_variable = fourth_variable + 5\n",
    "print(fourth_variable)"
   ]
  },
  {
   "cell_type": "code",
   "execution_count": 21,
   "id": "d18a1cd6",
   "metadata": {},
   "outputs": [
    {
     "name": "stdout",
     "output_type": "stream",
     "text": [
      "365\n"
     ]
    }
   ],
   "source": [
    "days_per_year = 365\n",
    "print(days_per_year)"
   ]
  },
  {
   "cell_type": "code",
   "execution_count": 6,
   "id": "6a4e8eab",
   "metadata": {},
   "outputs": [],
   "source": [
    "#Creating Variables for calculating number of seconds in 4 years\n",
    "number_of_years = 4\n",
    "days_per_year = 365\n",
    "hours_per_day = 24\n",
    "minutes_per_hour = 60\n",
    "seconds_per_minute = 60"
   ]
  },
  {
   "cell_type": "code",
   "execution_count": 7,
   "id": "72e6d948",
   "metadata": {},
   "outputs": [],
   "source": [
    "#Calculating number of seconds in 4 years\n",
    "number_of_seconds_in_4_years = number_of_years * days_per_year * hours_per_day * minutes_per_hour * seconds_per_minute "
   ]
  },
  {
   "cell_type": "code",
   "execution_count": 8,
   "id": "790c7ef7",
   "metadata": {},
   "outputs": [
    {
     "name": "stdout",
     "output_type": "stream",
     "text": [
      "126144000\n"
     ]
    }
   ],
   "source": [
    "#Printing the Answer\n",
    "print(number_of_seconds_in_4_years)"
   ]
  },
  {
   "cell_type": "code",
   "execution_count": 9,
   "id": "8e99d471",
   "metadata": {},
   "outputs": [
    {
     "name": "stdout",
     "output_type": "stream",
     "text": [
      "24\n"
     ]
    }
   ],
   "source": [
    "print(hours_per_day)"
   ]
  },
  {
   "cell_type": "code",
   "execution_count": 10,
   "id": "92e6ef39",
   "metadata": {},
   "outputs": [],
   "source": [
    "#Update to leap year\n",
    "days_per_year = 365.25"
   ]
  },
  {
   "cell_type": "code",
   "execution_count": 11,
   "id": "cfdd80c9",
   "metadata": {},
   "outputs": [],
   "source": [
    "#Calculating number of seconds in 4 years\n",
    "number_of_seconds_in_4_years = number_of_years * days_per_year * hours_per_day * minutes_per_hour * seconds_per_minute "
   ]
  },
  {
   "cell_type": "code",
   "execution_count": 12,
   "id": "4ae62aa1",
   "metadata": {},
   "outputs": [
    {
     "name": "stdout",
     "output_type": "stream",
     "text": [
      "126230400.0\n"
     ]
    }
   ],
   "source": [
    "#Printing the Answer\n",
    "print(number_of_seconds_in_4_years)"
   ]
  },
  {
   "cell_type": "code",
   "execution_count": 13,
   "id": "13564d8e",
   "metadata": {},
   "outputs": [
    {
     "name": "stdout",
     "output_type": "stream",
     "text": [
      "60\n"
     ]
    }
   ],
   "source": [
    "print(minutes_per_hour)"
   ]
  },
  {
   "cell_type": "code",
   "execution_count": 3,
   "id": "5eb97757",
   "metadata": {},
   "outputs": [],
   "source": [
    "def add_three(inputvar):\n",
    "    outputvar = inputvar + 3\n",
    "    return outputvar"
   ]
  },
  {
   "cell_type": "code",
   "execution_count": 4,
   "id": "fb173410",
   "metadata": {},
   "outputs": [
    {
     "name": "stdout",
     "output_type": "stream",
     "text": [
      "13\n"
     ]
    }
   ],
   "source": [
    "new_number = add_three(10)\n",
    "print(new_number)"
   ]
  },
  {
   "cell_type": "code",
   "execution_count": null,
   "id": "c00044da",
   "metadata": {},
   "outputs": [],
   "source": []
  }
 ],
 "metadata": {
  "kernelspec": {
   "display_name": "Python 3 (ipykernel)",
   "language": "python",
   "name": "python3"
  },
  "language_info": {
   "codemirror_mode": {
    "name": "ipython",
    "version": 3
   },
   "file_extension": ".py",
   "mimetype": "text/x-python",
   "name": "python",
   "nbconvert_exporter": "python",
   "pygments_lexer": "ipython3",
   "version": "3.11.5"
  }
 },
 "nbformat": 4,
 "nbformat_minor": 5
}
